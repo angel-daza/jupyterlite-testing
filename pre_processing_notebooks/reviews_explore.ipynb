{
 "cells": [
  {
   "cell_type": "code",
   "execution_count": null,
   "metadata": {},
   "outputs": [],
   "source": [
    "import pandas as pd\n",
    "from pathlib import Path\n",
    "\n",
    "BASE_DIR = Path.home() / \"SEED_DATA/impact_and_fiction\"\n",
    "reviews_path = BASE_DIR / \"reviews-stats.tsv\"\n",
    "\n",
    "reviews_db = pd.read_csv(reviews_path, sep=\"\\t\")\n",
    "#reviews_db['sub_work_id'] = reviews_db['work_id'].apply(lambda x: x.strip('impfic-'))\n",
    "#reviews_db = reviews_db.set_index('sub_work_id')\n",
    "reviews_db"
   ]
  },
  {
   "cell_type": "markdown",
   "metadata": {},
   "source": [
    "## Map the word_id to ISBNs"
   ]
  },
  {
   "cell_type": "code",
   "execution_count": null,
   "metadata": {},
   "outputs": [],
   "source": [
    "reviews_path = BASE_DIR / \"work_isbn_title_genre.tsv\"\n",
    "work_isbn_db = pd.read_csv(reviews_path, sep=\"\\t\")\n",
    "work_isbn_db = work_isbn_db[work_isbn_db['record_id_type'] == 'isbn']\n",
    "work_isbn_db"
   ]
  },
  {
   "cell_type": "code",
   "execution_count": null,
   "metadata": {},
   "outputs": [],
   "source": [
    "work_isbn_db = work_isbn_db[['work_id', 'record_id']].set_index('record_id')\n",
    "work_isbn_db.index = work_isbn_db.index.str.strip()\n",
    "work_isbn_db.index.name = 'isbn'\n",
    "work_isbn_db"
   ]
  },
  {
   "cell_type": "code",
   "execution_count": null,
   "metadata": {},
   "outputs": [],
   "source": [
    "book_db = pd.read_csv(\"data/book_topic.tsv\", sep=\"\\t\", index_col=0)\n",
    "book_db.index.name = 'isbn'\n",
    "book_db.index = book_db.index.astype(str)\n",
    "book_db"
   ]
  },
  {
   "cell_type": "code",
   "execution_count": null,
   "metadata": {},
   "outputs": [],
   "source": [
    "common_indices = book_db.index.intersection(work_isbn_db.index)\n",
    "relevant_work_isbns = work_isbn_db.loc[common_indices]\n",
    "relevant_work_isbns.to_csv(\"data/isbn_to_work_ids.csv\")\n",
    "relevant_work_isbns"
   ]
  }
 ],
 "metadata": {
  "kernelspec": {
   "display_name": ".venv",
   "language": "python",
   "name": "python3"
  },
  "language_info": {
   "codemirror_mode": {
    "name": "ipython",
    "version": 3
   },
   "file_extension": ".py",
   "mimetype": "text/x-python",
   "name": "python",
   "nbconvert_exporter": "python",
   "pygments_lexer": "ipython3",
   "version": "3.12.3"
  }
 },
 "nbformat": 4,
 "nbformat_minor": 2
}
