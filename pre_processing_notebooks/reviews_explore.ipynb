{
 "cells": [
  {
   "cell_type": "code",
   "execution_count": null,
   "metadata": {},
   "outputs": [],
   "source": [
    "import pandas as pd\n",
    "from pathlib import Path\n",
    "\n",
    "BASE_DIR = Path.home() / \"SEED_DATA/impact_and_fiction\"\n",
    "reviews_path = BASE_DIR / \"reviews-stats.tsv\"\n",
    "\n",
    "reviews_db = pd.read_csv(reviews_path, sep=\"\\t\")\n",
    "reviews_db"
   ]
  },
  {
   "cell_type": "markdown",
   "metadata": {},
   "source": [
    "## Read the Book Table"
   ]
  },
  {
   "cell_type": "code",
   "execution_count": null,
   "metadata": {},
   "outputs": [],
   "source": [
    "book_db = pd.read_csv(\"data/book_topic.tsv\", sep=\"\\t\", index_col=0)\n",
    "book_db.index.name = 'isbn'\n",
    "book_db.index = book_db.index.astype(str)\n",
    "book_db"
   ]
  },
  {
   "cell_type": "markdown",
   "metadata": {},
   "source": [
    "## Add ISBN Index to the Reviews Table\n",
    "And keep only reviews that are form the \"valid\" books"
   ]
  },
  {
   "cell_type": "code",
   "execution_count": null,
   "metadata": {},
   "outputs": [],
   "source": [
    "import json\n",
    "\n",
    "workId2isbn = json.load(open(\"data/workId2isbn.json\"))\n",
    "\n",
    "def get_isbn(work_id):\n",
    "    return workId2isbn.get(work_id)\n",
    "\n",
    "reviews_db['isbn'] = reviews_db['work_id'].apply(get_isbn)\n",
    "reviews_db = reviews_db[~reviews_db['isbn'].isna()]\n",
    "reviews_db = reviews_db.set_index('isbn')\n",
    "\n",
    "reviews_db"
   ]
  },
  {
   "cell_type": "code",
   "execution_count": null,
   "metadata": {},
   "outputs": [],
   "source": [
    "## Check intersection between reviews_db and books_db\n",
    "reviews_db.index.intersection(book_db.index)"
   ]
  },
  {
   "cell_type": "markdown",
   "metadata": {},
   "source": [
    "## Merge Relevant Book Columns \n",
    "\n",
    "This is to have everything handy already in just one table"
   ]
  },
  {
   "cell_type": "code",
   "execution_count": null,
   "metadata": {},
   "outputs": [],
   "source": [
    "book_valid_columns = ['title', 'author', 'publisher', 'nur_names', 'topic_id', 'doc_x', 'doc_y', 'genre']\n",
    "\n",
    "all_together = reviews_db.join(book_db[book_valid_columns], how='left', lsuffix='_rev', rsuffix='_book')\n",
    "all_together['topic_id'] = all_together['topic_id'].astype(int)\n",
    "all_together.to_csv(\"../content/topic_model_viz/all_valid_reviews_viz.tsv\", sep=\"\\t\")\n",
    "all_together"
   ]
  },
  {
   "cell_type": "markdown",
   "metadata": {},
   "source": [
    "## VIEW: Most Popular Books"
   ]
  },
  {
   "cell_type": "code",
   "execution_count": null,
   "metadata": {},
   "outputs": [],
   "source": [
    "import numpy as np\n",
    "\n",
    "def calculate_mode(series):\n",
    "    mode_values = series.mode()\n",
    "    if len(mode_values) == 1:\n",
    "        return mode_values[0]\n",
    "    else:\n",
    "        return np.mean(mode_values.tolist()) \n",
    "\n",
    "\n",
    "per_book_reviews = reviews_db.groupby(['isbn'],)\n",
    "# ratings_per_book = per_book_reviews['rating'].count().sort_values(ascending=False)\n",
    "ratings_per_book = per_book_reviews['rating'].agg(\n",
    "    num_ratings='count',\n",
    "    average_rating='mean',\n",
    "    median_rating='median',\n",
    "    stdev_rating='std',\n",
    "    mode_rating=calculate_mode\n",
    ")\n",
    "ratings_per_book = pd.DataFrame(ratings_per_book).sort_values('num_ratings', ascending=False)\n",
    "ratings_per_book"
   ]
  },
  {
   "cell_type": "code",
   "execution_count": null,
   "metadata": {},
   "outputs": [],
   "source": [
    "title_author = book_db[['title', 'author']]\n",
    "most_popular_books = ratings_per_book.join(title_author)\n",
    "# most_popular_books.rename(columns={'rating': 'num_ratings'}, inplace=True)\n",
    "most_popular_books.to_csv(\"data/most_popular_books.tsv\", sep=\"\\t\")\n",
    "most_popular_books"
   ]
  }
 ],
 "metadata": {
  "kernelspec": {
   "display_name": ".venv",
   "language": "python",
   "name": "python3"
  },
  "language_info": {
   "codemirror_mode": {
    "name": "ipython",
    "version": 3
   },
   "file_extension": ".py",
   "mimetype": "text/x-python",
   "name": "python",
   "nbconvert_exporter": "python",
   "pygments_lexer": "ipython3",
   "version": "3.10.14"
  }
 },
 "nbformat": 4,
 "nbformat_minor": 2
}
