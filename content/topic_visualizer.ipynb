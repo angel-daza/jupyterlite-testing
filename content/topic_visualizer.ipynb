{
  "cells": [
    {
      "cell_type": "code",
      "execution_count": null,
      "id": "38bd1c9e",
      "metadata": {
        "trusted": true
      },
      "outputs": [],
      "source": [
        "# %pip install altair\n",
        "# %pip install ipywidgets\n",
        "\n",
        "#%pip install \"vegafusion[embed]>=1.5.0\""
      ]
    },
    {
      "cell_type": "code",
      "execution_count": null,
      "id": "7a36380a",
      "metadata": {},
      "outputs": [],
      "source": [
        "import pandas as pd\n",
        "import numpy as np\n",
        "import ipywidgets as widgets\n",
        "from ipywidgets import interact, interactive\n",
        "import altair as alt\n",
        "alt.data_transformers.enable('default', max_rows=None)\n",
        "#alt.data_transformers.enable(\"vegafusion\")"
      ]
    },
    {
      "cell_type": "code",
      "execution_count": null,
      "id": "8288aabb",
      "metadata": {
        "trusted": true
      },
      "outputs": [],
      "source": [
        "df_topic_docs = pd.read_csv(\"topic_model_viz/topic_docs_table.csv\", index_col=0)\n",
        "df_topic_docs"
      ]
    },
    {
      "cell_type": "markdown",
      "id": "0f4f0adf",
      "metadata": {},
      "source": [
        "## Most Popular Books"
      ]
    },
    {
      "cell_type": "code",
      "execution_count": null,
      "id": "09509cc6",
      "metadata": {},
      "outputs": [],
      "source": [
        "## Most Popular Books (by amount of reviews)\n",
        "popular_books = pd.read_csv('../pre_processing_notebooks/data/most_popular_books.tsv', sep='\\t')\n",
        "\n",
        "alt.Chart(popular_books[:200]).mark_bar(color='#3f8131').encode(\\\n",
        "    x=alt.X('title', sort='-y', axis=alt.Axis(titleFontSize=14, labelFontSize=16)).title('Book Title'),\n",
        "    y=alt.Y('num_ratings', axis=alt.Axis(titleFontSize=14, labelFontSize=16)).title('Ratings'),\n",
        "    tooltip=['author', 'title', 'num_ratings']\n",
        ")"
      ]
    },
    {
      "cell_type": "code",
      "execution_count": null,
      "id": "02dff5ed",
      "metadata": {},
      "outputs": [],
      "source": [
        "## Most Popular Authors (by amount of reviews and books)\n",
        "popular_authors = popular_books.groupby('author').agg(\n",
        "    Total_Reviews=('num_ratings', 'sum'),\n",
        "    Books_Rated=('num_ratings', 'count'),\n",
        "    Avg_Mode_Rating=('mode_rating', 'mean')\n",
        ").sort_values(ascending=False, by='Total_Reviews').reset_index()\n",
        "\n",
        "#print(popular_authors)\n",
        "\n",
        "alt.Chart(popular_authors).mark_circle(size=100).encode(\n",
        "    x=alt.X('Books_Rated:Q', sort='-y', axis=alt.Axis(titleFontSize=18, labelFontSize=16)).title('# Books'),\n",
        "    y=alt.Y('Total_Reviews:Q', axis=alt.Axis(titleFontSize=18, labelFontSize=16)).title('# Reviews'),\n",
        "    color='Avg_Mode_Rating:Q',\n",
        "    tooltip=['author', 'Total_Reviews', 'Books_Rated' ,'Avg_Mode_Rating']\n",
        ").properties(\n",
        "    width=1200,\n",
        "    height=800\n",
        ").interactive()"
      ]
    },
    {
      "cell_type": "markdown",
      "id": "381f7fa6",
      "metadata": {},
      "source": [
        "## Explore Topics by Genre"
      ]
    },
    {
      "cell_type": "code",
      "execution_count": null,
      "id": "0d726fcc",
      "metadata": {},
      "outputs": [],
      "source": [
        "df_doc_viz = pd.read_csv(\"topic_model_viz/book_topic.tsv\", index_col=0, sep=\"\\t\")\n",
        "\n",
        "df_doc_viz.index = df_doc_viz.index.astype(str)\n",
        "df_doc_viz['doc_id'] = df_doc_viz.index\n",
        "\n",
        "\n",
        "genres = df_doc_viz['genre'].dropna().unique()\n",
        "genres.sort()\n",
        "\n",
        "selectGenre = alt.selection_point(\n",
        "    name='Select', # name the selection 'Select'\n",
        "    fields=['genre'], # limit selection to the genre field\n",
        "    value=genres[0], # use first genre entry as initial value\n",
        "    bind='legend' # bind to a menu of unique genre values\n",
        ")\n",
        "\n",
        "alt.Chart(df_doc_viz).mark_circle().add_params(\n",
        "    selectGenre\n",
        ").encode(\n",
        "    x='doc_x',\n",
        "    y='doc_y',\n",
        "    tooltip=['doc_id', 'title', 'author'],\n",
        "    color={\n",
        "      \"field\": \"genre\",\n",
        "      \"scale\": {\"scheme\": \"category20b\"},\n",
        "      \"legend\": {\"labelFontSize\": 16, \"titleFontSize\": 18}\n",
        "    },\n",
        "    opacity=alt.condition(selectGenre, alt.value(0.95), alt.value(0.01))\n",
        ").properties(\n",
        "        width=1200,\n",
        "        height=800\n",
        "    ).interactive()\n"
      ]
    },
    {
      "cell_type": "markdown",
      "id": "92ea03b0",
      "metadata": {},
      "source": [
        "## Visualize Reviews Info"
      ]
    },
    {
      "cell_type": "code",
      "execution_count": null,
      "id": "97920696-1c3a-4dc3-9331-c060ddd98c5f",
      "metadata": {
        "trusted": true
      },
      "outputs": [],
      "source": [
        "all_reviews = pd.read_csv(\"topic_model_viz/all_valid_reviews_viz.tsv\", sep=\"\\t\", index_col=0)\n",
        "all_reviews.index = all_reviews.index.astype(str)\n",
        "\n",
        "# Define a function to filter the DataFrame based on column value\n",
        "def filter_reviews_dataframe(source, publisher, nur, topic):\n",
        "    display_df = all_reviews\n",
        "    if source != 'All':\n",
        "        display_df = display_df[display_df['source'] == source]\n",
        "    if publisher != 'All':\n",
        "        display_df = display_df[display_df['publisher'] == publisher]\n",
        "    if nur != 'All':\n",
        "        display_df = display_df[display_df['nur_names'] == nur]\n",
        "    if topic != 'All':\n",
        "        display_df = display_df[display_df['topic_id'] == topic]\n",
        "    \n",
        "    display(display_df)\n",
        "    return display_df\n",
        "\n",
        "\n",
        "# Create interactive widgets for selecting values\n",
        "source_dropdown = widgets.Dropdown(\n",
        "    options=['All'] + list(all_reviews['source'].unique()),\n",
        "    description='Source:'\n",
        ")\n",
        "publisher_dropdown = widgets.Dropdown(\n",
        "    options=['All'] + list(all_reviews['publisher'].unique()),\n",
        "    description='Publisher:'\n",
        ")\n",
        "nur_dropdown = widgets.Dropdown(\n",
        "    options=['All'] + list(all_reviews['nur_names'].unique()),\n",
        "    description='NUR:'\n",
        ")\n",
        "topic_dropdown = widgets.Dropdown(\n",
        "    options=['All'] + sorted(list(all_reviews['topic_id'].unique())),\n",
        "    description='Topic:'\n",
        ")\n",
        "\n",
        "## (These observers will work assuming we always apply the filters top down)\n",
        "# Define callback function to update value dropdown options\n",
        "def update_publisher_dropdown(*args):\n",
        "    if source_dropdown.value != 'All':\n",
        "        unique_values = all_reviews[all_reviews['source'] == source_dropdown.value]['publisher'].unique()\n",
        "        publisher_dropdown.options = ['All'] + list(unique_values)\n",
        "    else:\n",
        "        publisher_dropdown.options = ['All'] + list(all_reviews['publisher'].unique())\n",
        "\n",
        "def update_nur_dropdown(*args):\n",
        "    if source_dropdown.value != 'All':\n",
        "        unique_values = all_reviews[all_reviews['source'] == source_dropdown.value]\n",
        "        if publisher_dropdown.value != 'All':\n",
        "            unique_values = unique_values[unique_values['publisher'] == publisher_dropdown.value]\n",
        "        unique_values = unique_values['nur_names'].unique()\n",
        "        nur_dropdown.options = ['All'] + list(unique_values)\n",
        "    else:\n",
        "        nur_dropdown.options = ['All'] + list(all_reviews['nur_names'].unique())\n",
        "\n",
        "# Register callback functions with dropdowns\n",
        "source_dropdown.observe(update_publisher_dropdown, 'value')\n",
        "publisher_dropdown.observe(update_nur_dropdown, 'value')\n",
        "\n",
        "# Create interactive display\n",
        "filtered_reviews_widget = interactive(filter_reviews_dataframe, source=source_dropdown, publisher=publisher_dropdown, nur=nur_dropdown, topic=topic_dropdown)\n",
        "\n",
        "display(filtered_reviews_widget)"
      ]
    },
    {
      "cell_type": "code",
      "execution_count": null,
      "id": "dad22c17",
      "metadata": {},
      "outputs": [],
      "source": [
        "current_df = filtered_reviews_widget.result\n",
        "\n",
        "def calculate_mode(series):\n",
        "    mode_values = series.mode()\n",
        "    if len(mode_values) == 1:\n",
        "        return mode_values[0]\n",
        "    else:\n",
        "        return np.mean(mode_values.tolist()) \n",
        "\n",
        "mode_rating = current_df.groupby(current_df.index)['rating'].apply(calculate_mode)\n",
        "\n",
        "\n",
        "filtered_indices = df_doc_viz.index.intersection(current_df.index)\n",
        "visualize_docs = df_doc_viz.loc[filtered_indices]\n",
        "visualize_docs['mode_rating'] = mode_rating\n",
        "\n",
        "print(visualize_docs.shape)\n",
        "\n",
        "scatter_plot = alt.Chart(visualize_docs\n",
        ").mark_circle().encode(\n",
        "    x='doc_x',\n",
        "    y='doc_y',\n",
        "    tooltip=['doc_id', 'title', 'mode_rating'],\n",
        "    color='genre:N',\n",
        "    size='mode_rating:Q'\n",
        ").properties(\n",
        "    width=1400,\n",
        "    height=800\n",
        ").interactive()\n",
        "\n",
        "scatter_plot.show() "
      ]
    },
    {
      "cell_type": "markdown",
      "id": "6e7c14fd",
      "metadata": {},
      "source": [
        "## Explore Reviews by Date"
      ]
    },
    {
      "cell_type": "code",
      "execution_count": null,
      "id": "b17a70cb",
      "metadata": {},
      "outputs": [],
      "source": [
        "brush_selection = alt.selection_interval(\n",
        "    encodings=['x'] # limit selection to x-axis (rating) values\n",
        ")\n",
        "\n",
        "# dynamic query histogram\n",
        "reviews_chart = alt.Chart(all_reviews).mark_bar().add_params(\n",
        "    brush_selection\n",
        ").encode(\n",
        "    alt.X('review_date:T', title='Review Date'),\n",
        "    alt.Y('count():Q', title='# of Reviews')\n",
        ").properties(\n",
        "    width=1450,\n",
        "    height=250\n",
        ")\n",
        "\n",
        "# scatter plot, modify opacity based on selection\n",
        "topic_books = alt.Chart(all_reviews).mark_circle().encode(\n",
        "    x='doc_x',\n",
        "    y='doc_y',\n",
        "    tooltip=['title', 'author'],\n",
        "    color={\n",
        "      \"field\": \"genre\",\n",
        "      \"scale\": {\"scheme\": \"category20b\"},\n",
        "      \"legend\": {\"labelFontSize\": 16, \"titleFontSize\": 18}\n",
        "    },\n",
        "    opacity=alt.condition(brush_selection, alt.value(0.95), alt.value(0.005))\n",
        ").properties(\n",
        "    width=1450,\n",
        "    height=800\n",
        ").interactive()\n",
        "\n",
        "composed_chart = alt.vconcat(reviews_chart, topic_books).properties(spacing=5)\n",
        "composed_chart"
      ]
    },
    {
      "cell_type": "code",
      "execution_count": null,
      "id": "99e48492",
      "metadata": {},
      "outputs": [],
      "source": []
    },
    {
      "cell_type": "code",
      "execution_count": null,
      "id": "bd1ceebf",
      "metadata": {},
      "outputs": [],
      "source": []
    },
    {
      "cell_type": "code",
      "execution_count": null,
      "id": "319eec50",
      "metadata": {},
      "outputs": [],
      "source": [
        "\n"
      ]
    }
  ],
  "metadata": {
    "kernelspec": {
      "display_name": ".venv",
      "language": "python",
      "name": "python3"
    },
    "language_info": {
      "codemirror_mode": {
        "name": "ipython",
        "version": 3
      },
      "file_extension": ".py",
      "mimetype": "text/x-python",
      "name": "python",
      "nbconvert_exporter": "python",
      "pygments_lexer": "ipython3",
      "version": "3.10.14"
    }
  },
  "nbformat": 4,
  "nbformat_minor": 5
}
